{
 "cells": [
  {
   "cell_type": "markdown",
   "metadata": {},
   "source": [
    "# Proyecto 2\n",
    "### Inteligencia Artificial\n",
    "José Daniel Gómez Cabrera 21429"
   ]
  },
  {
   "cell_type": "code",
   "execution_count": 60,
   "metadata": {},
   "outputs": [],
   "source": [
    "import pandas as pd\n",
    "import matplotlib.pyplot as plt\n",
    "import chardet\n",
    "import re\n",
    "import seaborn as sns\n",
    "from sklearn.model_selection import train_test_split\n",
    "from sklearn.metrics import confusion_matrix, precision_score, recall_score, f1_score, classification_report\n",
    "import nltk\n",
    "from nltk.corpus import stopwords\n",
    "from nltk.tokenize import word_tokenize\n",
    "from nltk.tokenize import WhitespaceTokenizer\n",
    "from nltk.stem.porter import PorterStemmer\n",
    "from nltk.stem import WordNetLemmatizer\n",
    "from nltk.corpus import wordnet"
   ]
  },
  {
   "cell_type": "code",
   "execution_count": 61,
   "metadata": {},
   "outputs": [
    {
     "name": "stderr",
     "output_type": "stream",
     "text": [
      "[nltk_data] Downloading package stopwords to\n",
      "[nltk_data]     C:\\Users\\dellg\\AppData\\Roaming\\nltk_data...\n",
      "[nltk_data]   Package stopwords is already up-to-date!\n",
      "[nltk_data] Downloading package wordnet to\n",
      "[nltk_data]     C:\\Users\\dellg\\AppData\\Roaming\\nltk_data...\n",
      "[nltk_data]   Package wordnet is already up-to-date!\n",
      "[nltk_data] Downloading package punkt to\n",
      "[nltk_data]     C:\\Users\\dellg\\AppData\\Roaming\\nltk_data...\n",
      "[nltk_data]   Package punkt is already up-to-date!\n",
      "[nltk_data] Downloading package averaged_perceptron_tagger to\n",
      "[nltk_data]     C:\\Users\\dellg\\AppData\\Roaming\\nltk_data...\n",
      "[nltk_data]   Package averaged_perceptron_tagger is already up-to-\n",
      "[nltk_data]       date!\n",
      "[nltk_data] Downloading package omw-1.4 to\n",
      "[nltk_data]     C:\\Users\\dellg\\AppData\\Roaming\\nltk_data...\n",
      "[nltk_data]   Package omw-1.4 is already up-to-date!\n"
     ]
    },
    {
     "data": {
      "text/plain": [
       "True"
      ]
     },
     "execution_count": 61,
     "metadata": {},
     "output_type": "execute_result"
    }
   ],
   "source": [
    "nltk.download('stopwords')\n",
    "nltk.download('wordnet')\n",
    "nltk.download('punkt')\n",
    "nltk.download('averaged_perceptron_tagger')\n",
    "nltk.download('omw-1.4')"
   ]
  },
  {
   "cell_type": "code",
   "execution_count": 62,
   "metadata": {},
   "outputs": [],
   "source": [
    "# WordNet Lemmatizer\n",
    "lemmatizer = WordNetLemmatizer()\n",
    "# Porter Stemmer\n",
    "stemmer = PorterStemmer()\n",
    "# Tokenizer\n",
    "tokenizer = WhitespaceTokenizer()\n",
    "# stopwords queue\n",
    "stop_words = set(stopwords.words('english'))"
   ]
  },
  {
   "cell_type": "markdown",
   "metadata": {},
   "source": [
    "Read file with codification"
   ]
  },
  {
   "cell_type": "code",
   "execution_count": 63,
   "metadata": {},
   "outputs": [],
   "source": [
    "spam = pd.read_csv('spam.csv', encoding='ISO-8859-1')\n",
    "spam = spam[['v1', 'v2']]"
   ]
  },
  {
   "cell_type": "markdown",
   "metadata": {},
   "source": [
    "Mapping the POS"
   ]
  },
  {
   "cell_type": "code",
   "execution_count": 64,
   "metadata": {},
   "outputs": [],
   "source": [
    "# Map POS tag to the first character lemmatize() accepts\n",
    "def get_wordnet_pos(word, tag):\n",
    "  tag_dict = {\n",
    "    'J': wordnet.ADJ,\n",
    "    'N': wordnet.NOUN,\n",
    "    'V': wordnet.VERB,\n",
    "    'R': wordnet.ADV\n",
    "  }\n",
    "  return tag_dict.get(tag[0].upper(), wordnet.NOUN)"
   ]
  },
  {
   "cell_type": "markdown",
   "metadata": {},
   "source": [
    "#### EDA\n",
    "Spam & ham"
   ]
  },
  {
   "cell_type": "code",
   "execution_count": 65,
   "metadata": {},
   "outputs": [
    {
     "data": {
      "text/plain": [
       "ham     4825\n",
       "spam     747\n",
       "Name: v1, dtype: int64"
      ]
     },
     "execution_count": 65,
     "metadata": {},
     "output_type": "execute_result"
    }
   ],
   "source": [
    "spam['v1'].value_counts()"
   ]
  },
  {
   "cell_type": "markdown",
   "metadata": {},
   "source": [
    "Train & test set"
   ]
  },
  {
   "cell_type": "code",
   "execution_count": 66,
   "metadata": {},
   "outputs": [],
   "source": [
    "train, test = train_test_split(\n",
    "  spam.copy(),\n",
    "  test_size=0.20,\n",
    "  stratify=spam['v1'],\n",
    "  random_state=42\n",
    ")"
   ]
  },
  {
   "cell_type": "code",
   "execution_count": 67,
   "metadata": {},
   "outputs": [
    {
     "data": {
      "text/plain": [
       "ham     3859\n",
       "spam     598\n",
       "Name: v1, dtype: int64"
      ]
     },
     "execution_count": 67,
     "metadata": {},
     "output_type": "execute_result"
    }
   ],
   "source": [
    "train['v1'].value_counts()"
   ]
  },
  {
   "cell_type": "code",
   "execution_count": 68,
   "metadata": {},
   "outputs": [
    {
     "data": {
      "text/plain": [
       "ham     966\n",
       "spam    149\n",
       "Name: v1, dtype: int64"
      ]
     },
     "execution_count": 68,
     "metadata": {},
     "output_type": "execute_result"
    }
   ],
   "source": [
    "test['v1'].value_counts()"
   ]
  },
  {
   "cell_type": "markdown",
   "metadata": {},
   "source": [
    "##### Data cleaning"
   ]
  },
  {
   "cell_type": "code",
   "execution_count": 69,
   "metadata": {},
   "outputs": [],
   "source": [
    "# Lower cases\n",
    "def toLower(texts):\n",
    "  return [text.lower() for text in texts]\n",
    "\n",
    "# Tokenization\n",
    "def tokenization(texts):\n",
    "  return [word_tokenize(text) for text in texts]\n",
    "\n",
    "# Punctuation marks removal\n",
    "def marksRemoval(texts):\n",
    "  return [[token for token in text if not re.search(r'\\W+', token)] for text in texts]\n",
    "\n",
    "# number tokens removal\n",
    "def numTokensRemoval(texts):\n",
    "  return [[token for token in text if not re.search(r'[0-9]+', token)] for text in texts]\n",
    "\n",
    "# stopwords removal\n",
    "def stopwordsRemoval(texts):\n",
    "  return [[token for token in text if token not in stop_words] for text in texts]\n",
    "\n",
    "# Lemmatization\n",
    "def lemmatizater(texts):\n",
    "  values = [nltk.pos_tag(text) for text in texts]\n",
    "  return [[lemmatizer.lemmatize(item[0], get_wordnet_pos(item[0], item[1])) for item in value] for value in values]\n",
    "\n",
    "# stemming\n",
    "def stemmazer(texts):\n",
    "  return  [[stemmer.stem(token) for token in text] for text in texts]"
   ]
  },
  {
   "cell_type": "markdown",
   "metadata": {},
   "source": [
    "##### Model"
   ]
  },
  {
   "cell_type": "code",
   "execution_count": 70,
   "metadata": {},
   "outputs": [],
   "source": [
    "def processor(texts):\n",
    "  modelFunctions = [\n",
    "    toLower,\n",
    "    tokenization,\n",
    "    marksRemoval,\n",
    "    numTokensRemoval,\n",
    "    stopwordsRemoval,\n",
    "    lemmatizater,\n",
    "    stemmazer\n",
    "  ]\n",
    "\n",
    "  for func in modelFunctions:\n",
    "    texts = func(texts)\n",
    "\n",
    "  return texts"
   ]
  },
  {
   "cell_type": "code",
   "execution_count": 71,
   "metadata": {},
   "outputs": [],
   "source": [
    "v2 = processor(train['v2'].tolist())\n",
    "train['v2'] = v2"
   ]
  },
  {
   "cell_type": "markdown",
   "metadata": {},
   "source": [
    "Dictionary instances"
   ]
  },
  {
   "cell_type": "code",
   "execution_count": 73,
   "metadata": {},
   "outputs": [],
   "source": [
    "hams = {}\n",
    "spams = {}\n",
    "\n",
    "# words counter for each category\n",
    "def wordCounter(words, wordsDict):\n",
    "  for word in words:\n",
    "    if word in wordsDict:\n",
    "      wordsDict[word] += 1\n",
    "    else:\n",
    "      wordsDict[word] = 1\n",
    "\n",
    "# Update dicts by categories\n",
    "for _, row in train.iterrows():\n",
    "  if row['v1'] == 'ham':\n",
    "    wordCounter(row['v2'], hams)\n",
    "  elif row['v1'] == 'spam':\n",
    "    wordCounter(row['v2'], spams)"
   ]
  }
 ],
 "metadata": {
  "kernelspec": {
   "display_name": "Python 3",
   "language": "python",
   "name": "python3"
  },
  "language_info": {
   "codemirror_mode": {
    "name": "ipython",
    "version": 3
   },
   "file_extension": ".py",
   "mimetype": "text/x-python",
   "name": "python",
   "nbconvert_exporter": "python",
   "pygments_lexer": "ipython3",
   "version": "3.11.9"
  }
 },
 "nbformat": 4,
 "nbformat_minor": 2
}
